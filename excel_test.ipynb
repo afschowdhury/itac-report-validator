{
 "cells": [
  {
   "cell_type": "code",
   "execution_count": 7,
   "id": "eb1d7378",
   "metadata": {},
   "outputs": [],
   "source": [
    "from excel_keyinfo_extractor import (\n",
    "    extract_general_info_dict,\n",
    "    extract_energy_waste_info_dict, \n",
    "    extract_recommendation_info_dict,\n",
    "    extract_all_structured_info\n",
    ")\n",
    "\n",
    "# # Extract specific sections\n",
    "# general_info = extract_general_info_dict(\"path/to/file.xlsx\")\n",
    "# energy_info = extract_energy_waste_info_dict(\"path/to/file.xlsx\") \n",
    "# recommendations = extract_recommendation_info_dict(\"path/to/file.xlsx\")"
   ]
  },
  {
   "cell_type": "code",
   "execution_count": 8,
   "id": "0f83431f",
   "metadata": {},
   "outputs": [
    {
     "name": "stdout",
     "output_type": "stream",
     "text": [
      "{'general_info': {'sic_no': 3491, 'naics_code': 332911, 'annual_sales': 35000000, 'no_of_employees': 120, 'total_facility_area': 211185, 'principal_product': 'Industrial Valves', 'annual_production': 6200, 'production_units': 1, 'operating_hours': 5616, 'motor_horsepower_capacity': 952, 'largest_motor_horsepower': 93, 'steam_capacity_lbm_hr': None, 'max_steam_pressure_psig': None, 'air_compressor_hp': 50, 'max_compressed_air_press_psig': 120}, 'energy_waste_info': {'data': [{'type': 'electrical_energy', 'original_name': 'Electrical Consumption', 'usage': {'kWh/yr': 2763509}, 'cost': 308828, 'unit_cost': {'amount': 0.11175212383965459, 'unit': 'kWh'}}, {'type': 'electrical_demand', 'original_name': 'Electrical Demand', 'usage': {'kW months/yr': 2483}, 'cost': 8408, 'unit_cost': {'amount': 3.3862263391059204, 'unit': 'kW months/yr'}}, {'type': 'electrical_fees', 'original_name': 'Other Electrical Fees', 'usage': {}, 'cost': 317236, 'unit_cost': {'amount': 'n/a', 'unit': 'unknown'}}, {'type': 'natural_gas', 'original_name': 'Natural Gas', 'usage': {'MMBtu/yr': 2325}, 'cost': 12911, 'unit_cost': {'amount': 5.553118279569892, 'unit': 'MMBtu'}}, {'type': 'propane_gas', 'original_name': 'L.P.G.', 'usage': {'MMBtu/yr': 208}, 'cost': 10467, 'unit_cost': {'amount': 50.32211538461539, 'unit': 'MMBtu'}}, {'type': 'fuel_oil', 'original_name': '#1 Fuel Oil', 'usage': {'MMBtu/yr': 0}, 'cost': 0, 'unit_cost': {'amount': 'n/a', 'unit': 'MMBtu'}}, {'type': 'fuel_oil', 'original_name': '#2 Fuel Oil', 'usage': {'MMBtu/yr': 0}, 'cost': 340614, 'unit_cost': {'amount': 'n/a', 'unit': 'MMBtu'}}, {'type': 'fuel_oil', 'original_name': '#4 Fuel Oil', 'usage': {'MMBtu/yr': 0}, 'cost': 0, 'unit_cost': {'amount': 'n/a', 'unit': 'MMBtu'}}, {'type': 'fuel_oil', 'original_name': '#6 Fuel Oil', 'usage': {'MMBtu/yr': 0}, 'cost': 0, 'unit_cost': {'amount': 'n/a', 'unit': 'MMBtu'}}, {'type': 'coal', 'original_name': 'Coal', 'usage': {'MMBtu/yr': 0}, 'cost': 0, 'unit_cost': {'amount': 'n/a', 'unit': 'MMBtu'}}, {'type': 'biomass', 'original_name': 'Wood', 'usage': {'MMBtu/yr': 0}, 'cost': 0, 'unit_cost': {'amount': 'n/a', 'unit': 'MMBtu'}}, {'type': 'biomass', 'original_name': 'Paper', 'usage': {'MMBtu/yr': 0}, 'cost': 0, 'unit_cost': {'amount': 'n/a', 'unit': 'MMBtu'}}, {'type': 'other_gas', 'original_name': 'Other Gas', 'usage': {'MMBtu/yr': 0}, 'cost': 0, 'unit_cost': {'amount': 'n/a', 'unit': 'MMBtu'}}, {'type': 'other_energy', 'original_name': 'Other Energy', 'usage': {'MMBtu/yr': 0}, 'cost': 0, 'unit_cost': {'amount': 'n/a', 'unit': 'MMBtu'}}, {'type': 'water', 'original_name': 'Water Usage', 'usage': {'T Gallons/yr': 0}, 'cost': 0, 'unit_cost': {'amount': 'n/a', 'unit': 'T Gallons'}}, {'type': 'water_disposal', 'original_name': 'Water Disposal', 'usage': {'T Gallons/yr': 0}, 'cost': 0, 'unit_cost': {'amount': 'n/a', 'unit': 'T Gallons'}}, {'type': 'other_liquid_non_haz', 'original_name': 'Other Liquid (non-haz)', 'usage': {'Gallons/yr': 0}, 'cost': 0, 'unit_cost': {'amount': 'n/a', 'unit': 'Gallons'}}, {'type': 'other_liquid_haz', 'original_name': 'Other Liquid (haz)', 'usage': {'Gallons/yr': 0}, 'cost': 0, 'unit_cost': {'amount': 'n/a', 'unit': 'Gallons'}}, {'type': 'solid_waste_non_haz', 'original_name': 'Solid Waste (non-haz)', 'usage': {'Pounds/yr': 0}, 'cost': 0, 'unit_cost': {'amount': 'n/a', 'unit': 'Pounds'}}, {'type': 'solid_waste_haz', 'original_name': 'Solid Waste (haz)', 'usage': {'Pounds/yr': 0}, 'cost': 0, 'unit_cost': {'amount': 'n/a', 'unit': 'Pounds'}}, {'type': 'gaseous_waste', 'original_name': 'Gaseous Waste', 'usage': {'Pounds/yr': 0}, 'cost': 0, 'unit_cost': {'amount': 'n/a', 'unit': 'Pounds'}}], 'period': {'start': '', 'end': ''}, 'summary': {'total_energy_cost': 998464, 'total_electrical_cost': 634472, 'total_utility_cost': 998464, 'num_energy_sources': 6, 'total_data_entries': 21}}, 'recommendation_info': {'recommendations': [], 'summary': {'total_recommendations': 0, 'total_annual_savings': 0, 'total_implementation_cost': 0, 'simple_payback_years': 0}, 'totals': {}}, 'extraction_timestamp': '2025-09-19T00:41:21.921125', 'source_file': '/Users/afschowdhury/Code Local/itac-report-validator/docs/report1/IACAssessmentTemplate.v2.1.xlsx'}\n"
     ]
    }
   ],
   "source": [
    "excel_path = \"docs/report1/IACAssessmentTemplate.v2.1.xlsx\"\n",
    "\n",
    "# Extract all structured information\n",
    "all_structured_info = extract_all_structured_info(excel_path)\n",
    "\n",
    "# Print the extracted information\n",
    "print(all_structured_info)"
   ]
  },
  {
   "cell_type": "code",
   "execution_count": 9,
   "id": "ef2662e4",
   "metadata": {},
   "outputs": [
    {
     "data": {
      "text/plain": [
       "dict_keys(['general_info', 'energy_waste_info', 'recommendation_info', 'extraction_timestamp', 'source_file'])"
      ]
     },
     "execution_count": 9,
     "metadata": {},
     "output_type": "execute_result"
    }
   ],
   "source": [
    "all_structured_info.keys()"
   ]
  },
  {
   "cell_type": "code",
   "execution_count": 10,
   "id": "9dab34f7",
   "metadata": {},
   "outputs": [],
   "source": [
    "general_info_dict = all_structured_info['general_info']\n",
    "energy_waste_dict = all_structured_info['energy_waste_info']\n",
    "recommendation_dict = all_structured_info['recommendation_info']"
   ]
  },
  {
   "cell_type": "code",
   "execution_count": 11,
   "id": "f306bdfe",
   "metadata": {},
   "outputs": [
    {
     "data": {
      "text/plain": [
       "{'sic_no': 3491,\n",
       " 'naics_code': 332911,\n",
       " 'annual_sales': 35000000,\n",
       " 'no_of_employees': 120,\n",
       " 'total_facility_area': 211185,\n",
       " 'principal_product': 'Industrial Valves',\n",
       " 'annual_production': 6200,\n",
       " 'production_units': 1,\n",
       " 'operating_hours': 5616,\n",
       " 'motor_horsepower_capacity': 952,\n",
       " 'largest_motor_horsepower': 93,\n",
       " 'steam_capacity_lbm_hr': None,\n",
       " 'max_steam_pressure_psig': None,\n",
       " 'air_compressor_hp': 50,\n",
       " 'max_compressed_air_press_psig': 120}"
      ]
     },
     "execution_count": 11,
     "metadata": {},
     "output_type": "execute_result"
    }
   ],
   "source": [
    "general_info_dict"
   ]
  },
  {
   "cell_type": "code",
   "execution_count": 12,
   "id": "41560655",
   "metadata": {},
   "outputs": [
    {
     "data": {
      "text/plain": [
       "{'data': [{'type': 'electrical_energy',\n",
       "   'original_name': 'Electrical Consumption',\n",
       "   'usage': {'kWh/yr': 2763509},\n",
       "   'cost': 308828,\n",
       "   'unit_cost': {'amount': 0.11175212383965459, 'unit': 'kWh'}},\n",
       "  {'type': 'electrical_demand',\n",
       "   'original_name': 'Electrical Demand',\n",
       "   'usage': {'kW months/yr': 2483},\n",
       "   'cost': 8408,\n",
       "   'unit_cost': {'amount': 3.3862263391059204, 'unit': 'kW months/yr'}},\n",
       "  {'type': 'electrical_fees',\n",
       "   'original_name': 'Other Electrical Fees',\n",
       "   'usage': {},\n",
       "   'cost': 317236,\n",
       "   'unit_cost': {'amount': 'n/a', 'unit': 'unknown'}},\n",
       "  {'type': 'natural_gas',\n",
       "   'original_name': 'Natural Gas',\n",
       "   'usage': {'MMBtu/yr': 2325},\n",
       "   'cost': 12911,\n",
       "   'unit_cost': {'amount': 5.553118279569892, 'unit': 'MMBtu'}},\n",
       "  {'type': 'propane_gas',\n",
       "   'original_name': 'L.P.G.',\n",
       "   'usage': {'MMBtu/yr': 208},\n",
       "   'cost': 10467,\n",
       "   'unit_cost': {'amount': 50.32211538461539, 'unit': 'MMBtu'}},\n",
       "  {'type': 'fuel_oil',\n",
       "   'original_name': '#1 Fuel Oil',\n",
       "   'usage': {'MMBtu/yr': 0},\n",
       "   'cost': 0,\n",
       "   'unit_cost': {'amount': 'n/a', 'unit': 'MMBtu'}},\n",
       "  {'type': 'fuel_oil',\n",
       "   'original_name': '#2 Fuel Oil',\n",
       "   'usage': {'MMBtu/yr': 0},\n",
       "   'cost': 340614,\n",
       "   'unit_cost': {'amount': 'n/a', 'unit': 'MMBtu'}},\n",
       "  {'type': 'fuel_oil',\n",
       "   'original_name': '#4 Fuel Oil',\n",
       "   'usage': {'MMBtu/yr': 0},\n",
       "   'cost': 0,\n",
       "   'unit_cost': {'amount': 'n/a', 'unit': 'MMBtu'}},\n",
       "  {'type': 'fuel_oil',\n",
       "   'original_name': '#6 Fuel Oil',\n",
       "   'usage': {'MMBtu/yr': 0},\n",
       "   'cost': 0,\n",
       "   'unit_cost': {'amount': 'n/a', 'unit': 'MMBtu'}},\n",
       "  {'type': 'coal',\n",
       "   'original_name': 'Coal',\n",
       "   'usage': {'MMBtu/yr': 0},\n",
       "   'cost': 0,\n",
       "   'unit_cost': {'amount': 'n/a', 'unit': 'MMBtu'}},\n",
       "  {'type': 'biomass',\n",
       "   'original_name': 'Wood',\n",
       "   'usage': {'MMBtu/yr': 0},\n",
       "   'cost': 0,\n",
       "   'unit_cost': {'amount': 'n/a', 'unit': 'MMBtu'}},\n",
       "  {'type': 'biomass',\n",
       "   'original_name': 'Paper',\n",
       "   'usage': {'MMBtu/yr': 0},\n",
       "   'cost': 0,\n",
       "   'unit_cost': {'amount': 'n/a', 'unit': 'MMBtu'}},\n",
       "  {'type': 'other_gas',\n",
       "   'original_name': 'Other Gas',\n",
       "   'usage': {'MMBtu/yr': 0},\n",
       "   'cost': 0,\n",
       "   'unit_cost': {'amount': 'n/a', 'unit': 'MMBtu'}},\n",
       "  {'type': 'other_energy',\n",
       "   'original_name': 'Other Energy',\n",
       "   'usage': {'MMBtu/yr': 0},\n",
       "   'cost': 0,\n",
       "   'unit_cost': {'amount': 'n/a', 'unit': 'MMBtu'}},\n",
       "  {'type': 'water',\n",
       "   'original_name': 'Water Usage',\n",
       "   'usage': {'T Gallons/yr': 0},\n",
       "   'cost': 0,\n",
       "   'unit_cost': {'amount': 'n/a', 'unit': 'T Gallons'}},\n",
       "  {'type': 'water_disposal',\n",
       "   'original_name': 'Water Disposal',\n",
       "   'usage': {'T Gallons/yr': 0},\n",
       "   'cost': 0,\n",
       "   'unit_cost': {'amount': 'n/a', 'unit': 'T Gallons'}},\n",
       "  {'type': 'other_liquid_non_haz',\n",
       "   'original_name': 'Other Liquid (non-haz)',\n",
       "   'usage': {'Gallons/yr': 0},\n",
       "   'cost': 0,\n",
       "   'unit_cost': {'amount': 'n/a', 'unit': 'Gallons'}},\n",
       "  {'type': 'other_liquid_haz',\n",
       "   'original_name': 'Other Liquid (haz)',\n",
       "   'usage': {'Gallons/yr': 0},\n",
       "   'cost': 0,\n",
       "   'unit_cost': {'amount': 'n/a', 'unit': 'Gallons'}},\n",
       "  {'type': 'solid_waste_non_haz',\n",
       "   'original_name': 'Solid Waste (non-haz)',\n",
       "   'usage': {'Pounds/yr': 0},\n",
       "   'cost': 0,\n",
       "   'unit_cost': {'amount': 'n/a', 'unit': 'Pounds'}},\n",
       "  {'type': 'solid_waste_haz',\n",
       "   'original_name': 'Solid Waste (haz)',\n",
       "   'usage': {'Pounds/yr': 0},\n",
       "   'cost': 0,\n",
       "   'unit_cost': {'amount': 'n/a', 'unit': 'Pounds'}},\n",
       "  {'type': 'gaseous_waste',\n",
       "   'original_name': 'Gaseous Waste',\n",
       "   'usage': {'Pounds/yr': 0},\n",
       "   'cost': 0,\n",
       "   'unit_cost': {'amount': 'n/a', 'unit': 'Pounds'}}],\n",
       " 'period': {'start': '', 'end': ''},\n",
       " 'summary': {'total_energy_cost': 998464,\n",
       "  'total_electrical_cost': 634472,\n",
       "  'total_utility_cost': 998464,\n",
       "  'num_energy_sources': 6,\n",
       "  'total_data_entries': 21}}"
      ]
     },
     "execution_count": 12,
     "metadata": {},
     "output_type": "execute_result"
    }
   ],
   "source": [
    "energy_waste_dict"
   ]
  },
  {
   "cell_type": "code",
   "execution_count": null,
   "id": "6d6d04ae",
   "metadata": {},
   "outputs": [],
   "source": []
  }
 ],
 "metadata": {
  "kernelspec": {
   "display_name": "report-validator",
   "language": "python",
   "name": "python3"
  },
  "language_info": {
   "codemirror_mode": {
    "name": "ipython",
    "version": 3
   },
   "file_extension": ".py",
   "mimetype": "text/x-python",
   "name": "python",
   "nbconvert_exporter": "python",
   "pygments_lexer": "ipython3",
   "version": "3.10.18"
  }
 },
 "nbformat": 4,
 "nbformat_minor": 5
}
